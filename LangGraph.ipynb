{
  "nbformat": 4,
  "nbformat_minor": 0,
  "metadata": {
    "colab": {
      "provenance": [],
      "authorship_tag": "ABX9TyNY3m8XIu6Zdr01WYsCiRD5"
    },
    "kernelspec": {
      "name": "python3",
      "display_name": "Python 3"
    },
    "language_info": {
      "name": "python"
    }
  },
  "cells": [
    {
      "cell_type": "code",
      "source": [
        "!pip install langgraph"
      ],
      "metadata": {
        "colab": {
          "base_uri": "https://localhost:8080/"
        },
        "id": "Tgvl4LHKJ-KZ",
        "outputId": "bebe786c-5cda-4861-94ae-94b71f45cfed"
      },
      "execution_count": 13,
      "outputs": [
        {
          "output_type": "stream",
          "name": "stdout",
          "text": [
            "Requirement already satisfied: langgraph in /usr/local/lib/python3.12/dist-packages (0.6.8)\n",
            "Requirement already satisfied: langchain-core>=0.1 in /usr/local/lib/python3.12/dist-packages (from langgraph) (0.3.77)\n",
            "Requirement already satisfied: langgraph-checkpoint<3.0.0,>=2.1.0 in /usr/local/lib/python3.12/dist-packages (from langgraph) (2.1.1)\n",
            "Requirement already satisfied: langgraph-prebuilt<0.7.0,>=0.6.0 in /usr/local/lib/python3.12/dist-packages (from langgraph) (0.6.4)\n",
            "Requirement already satisfied: langgraph-sdk<0.3.0,>=0.2.2 in /usr/local/lib/python3.12/dist-packages (from langgraph) (0.2.9)\n",
            "Requirement already satisfied: pydantic>=2.7.4 in /usr/local/lib/python3.12/dist-packages (from langgraph) (2.11.9)\n",
            "Requirement already satisfied: xxhash>=3.5.0 in /usr/local/lib/python3.12/dist-packages (from langgraph) (3.5.0)\n",
            "Requirement already satisfied: langsmith<1.0.0,>=0.3.45 in /usr/local/lib/python3.12/dist-packages (from langchain-core>=0.1->langgraph) (0.4.31)\n",
            "Requirement already satisfied: tenacity!=8.4.0,<10.0.0,>=8.1.0 in /usr/local/lib/python3.12/dist-packages (from langchain-core>=0.1->langgraph) (8.5.0)\n",
            "Requirement already satisfied: jsonpatch<2.0.0,>=1.33.0 in /usr/local/lib/python3.12/dist-packages (from langchain-core>=0.1->langgraph) (1.33)\n",
            "Requirement already satisfied: PyYAML<7.0.0,>=5.3.0 in /usr/local/lib/python3.12/dist-packages (from langchain-core>=0.1->langgraph) (6.0.3)\n",
            "Requirement already satisfied: typing-extensions<5.0.0,>=4.7.0 in /usr/local/lib/python3.12/dist-packages (from langchain-core>=0.1->langgraph) (4.15.0)\n",
            "Requirement already satisfied: packaging<26.0.0,>=23.2.0 in /usr/local/lib/python3.12/dist-packages (from langchain-core>=0.1->langgraph) (25.0)\n",
            "Requirement already satisfied: ormsgpack>=1.10.0 in /usr/local/lib/python3.12/dist-packages (from langgraph-checkpoint<3.0.0,>=2.1.0->langgraph) (1.10.0)\n",
            "Requirement already satisfied: httpx>=0.25.2 in /usr/local/lib/python3.12/dist-packages (from langgraph-sdk<0.3.0,>=0.2.2->langgraph) (0.28.1)\n",
            "Requirement already satisfied: orjson>=3.10.1 in /usr/local/lib/python3.12/dist-packages (from langgraph-sdk<0.3.0,>=0.2.2->langgraph) (3.11.3)\n",
            "Requirement already satisfied: annotated-types>=0.6.0 in /usr/local/lib/python3.12/dist-packages (from pydantic>=2.7.4->langgraph) (0.7.0)\n",
            "Requirement already satisfied: pydantic-core==2.33.2 in /usr/local/lib/python3.12/dist-packages (from pydantic>=2.7.4->langgraph) (2.33.2)\n",
            "Requirement already satisfied: typing-inspection>=0.4.0 in /usr/local/lib/python3.12/dist-packages (from pydantic>=2.7.4->langgraph) (0.4.2)\n",
            "Requirement already satisfied: anyio in /usr/local/lib/python3.12/dist-packages (from httpx>=0.25.2->langgraph-sdk<0.3.0,>=0.2.2->langgraph) (4.11.0)\n",
            "Requirement already satisfied: certifi in /usr/local/lib/python3.12/dist-packages (from httpx>=0.25.2->langgraph-sdk<0.3.0,>=0.2.2->langgraph) (2025.8.3)\n",
            "Requirement already satisfied: httpcore==1.* in /usr/local/lib/python3.12/dist-packages (from httpx>=0.25.2->langgraph-sdk<0.3.0,>=0.2.2->langgraph) (1.0.9)\n",
            "Requirement already satisfied: idna in /usr/local/lib/python3.12/dist-packages (from httpx>=0.25.2->langgraph-sdk<0.3.0,>=0.2.2->langgraph) (3.10)\n",
            "Requirement already satisfied: h11>=0.16 in /usr/local/lib/python3.12/dist-packages (from httpcore==1.*->httpx>=0.25.2->langgraph-sdk<0.3.0,>=0.2.2->langgraph) (0.16.0)\n",
            "Requirement already satisfied: jsonpointer>=1.9 in /usr/local/lib/python3.12/dist-packages (from jsonpatch<2.0.0,>=1.33.0->langchain-core>=0.1->langgraph) (3.0.0)\n",
            "Requirement already satisfied: requests-toolbelt>=1.0.0 in /usr/local/lib/python3.12/dist-packages (from langsmith<1.0.0,>=0.3.45->langchain-core>=0.1->langgraph) (1.0.0)\n",
            "Requirement already satisfied: requests>=2.0.0 in /usr/local/lib/python3.12/dist-packages (from langsmith<1.0.0,>=0.3.45->langchain-core>=0.1->langgraph) (2.32.4)\n",
            "Requirement already satisfied: zstandard>=0.23.0 in /usr/local/lib/python3.12/dist-packages (from langsmith<1.0.0,>=0.3.45->langchain-core>=0.1->langgraph) (0.25.0)\n",
            "Requirement already satisfied: charset_normalizer<4,>=2 in /usr/local/lib/python3.12/dist-packages (from requests>=2.0.0->langsmith<1.0.0,>=0.3.45->langchain-core>=0.1->langgraph) (3.4.3)\n",
            "Requirement already satisfied: urllib3<3,>=1.21.1 in /usr/local/lib/python3.12/dist-packages (from requests>=2.0.0->langsmith<1.0.0,>=0.3.45->langchain-core>=0.1->langgraph) (2.5.0)\n",
            "Requirement already satisfied: sniffio>=1.1 in /usr/local/lib/python3.12/dist-packages (from anyio->httpx>=0.25.2->langgraph-sdk<0.3.0,>=0.2.2->langgraph) (1.3.1)\n"
          ]
        }
      ]
    },
    {
      "cell_type": "markdown",
      "source": [
        "A simple greeting Node"
      ],
      "metadata": {
        "id": "0P5HunPyJhmD"
      }
    },
    {
      "cell_type": "code",
      "execution_count": 14,
      "metadata": {
        "id": "jRXP13-BJcdm"
      },
      "outputs": [],
      "source": [
        "from typing import Dict, TypedDict, List\n",
        "from langgraph.graph import StateGraph"
      ]
    },
    {
      "cell_type": "code",
      "source": [
        "class AgentState(TypedDict):\n",
        "  message: str\n",
        "\n",
        "def greeting_node(state: AgentState) -> AgentState:\n",
        "  state['message']=\"hey \" + state[\"message\"]+\", how are you?\"\n",
        "  return state"
      ],
      "metadata": {
        "id": "OSB37VabKFbL"
      },
      "execution_count": 15,
      "outputs": []
    },
    {
      "cell_type": "code",
      "source": [
        "graph=StateGraph(AgentState)\n",
        "graph.add_node(\"greeting\",greeting_node)\n",
        "graph.set_entry_point(\"greeting\")\n",
        "graph.set_finish_point(\"greeting\")\n",
        "\n",
        "app=graph.compile()\n",
        "\n",
        "result=app.invoke({\"message\":\"bob\"})\n",
        "\n",
        "result[\"message\"]"
      ],
      "metadata": {
        "colab": {
          "base_uri": "https://localhost:8080/",
          "height": 36
        },
        "id": "lWinpBO7KcQ1",
        "outputId": "48a7f5ca-04f1-444e-d650-c79cc0d5b9eb"
      },
      "execution_count": 16,
      "outputs": [
        {
          "output_type": "execute_result",
          "data": {
            "text/plain": [
              "'hey bob, how are you?'"
            ],
            "application/vnd.google.colaboratory.intrinsic+json": {
              "type": "string"
            }
          },
          "metadata": {},
          "execution_count": 16
        }
      ]
    },
    {
      "cell_type": "markdown",
      "source": [
        "Graph 2 => multiple Inputs graph"
      ],
      "metadata": {
        "id": "HlLQIjt1Ld-P"
      }
    },
    {
      "cell_type": "code",
      "source": [
        "class AgentStatee(TypedDict):\n",
        "    values: List[int]\n",
        "    name: str\n",
        "    result: str\n",
        "\n",
        "def process_values(state: AgentStatee) -> AgentStatee:\n",
        "    state[\"result\"] = \"Hi there \" + state[\"name\"] + \", Your List Sum is \" + str(sum(state[\"values\"]))\n",
        "    return state\n",
        "\n",
        "graph = StateGraph(AgentStatee)\n",
        "graph.add_node(\"process_values\", process_values)\n",
        "graph.set_entry_point(\"process_values\")\n",
        "graph.set_finish_point(\"process_values\")\n",
        "\n",
        "app = graph.compile()\n",
        "answer = app.invoke({\"values\": [1, 2, 3, 4, 5], \"name\": \"Bob\"})\n",
        "print(answer)"
      ],
      "metadata": {
        "colab": {
          "base_uri": "https://localhost:8080/"
        },
        "id": "7VcRjgymLlGx",
        "outputId": "235774f3-2dca-4413-e6ae-5f764fffa893"
      },
      "execution_count": 30,
      "outputs": [
        {
          "output_type": "stream",
          "name": "stdout",
          "text": [
            "{'values': [1, 2, 3, 4, 5], 'name': 'Bob', 'result': 'Hi there Bob, Your List Sum is 15'}\n"
          ]
        }
      ]
    },
    {
      "cell_type": "code",
      "source": [
        "class AgentStatee(TypedDict):\n",
        "    values: List[int]\n",
        "    name: str\n",
        "    operation: str\n",
        "    result: str\n",
        "\n",
        "def difference(values):\n",
        "    result = values[0]\n",
        "    for val in values[1:]:\n",
        "        result -= val\n",
        "    return result\n",
        "\n",
        "\n",
        "def process_values(state: AgentStatee) -> AgentStatee:\n",
        "    if(state[\"operation\"]==\"sum\"):\n",
        "      state[\"result\"] = \"Hi there \" + state[\"name\"] + \", Your List Sum is \" + str(sum(state[\"values\"]))\n",
        "    #we can also add for multiply, division\n",
        "    else:\n",
        "      state[\"result\"] = \"Hi there \" + state[\"name\"] + \", Your List Sum is \" + str(difference(state[\"values\"]))\n",
        "    return state\n",
        "\n",
        "graph = StateGraph(AgentStatee)\n",
        "graph.add_node(\"process_values\", process_values)\n",
        "graph.set_entry_point(\"process_values\")\n",
        "graph.set_finish_point(\"process_values\")\n",
        "\n",
        "app = graph.compile()\n",
        "answer = app.invoke({\"values\": [1, 2, 3, 4, 5], \"name\": \"Bob\", \"operation\":\"diff\"})\n",
        "print(answer)"
      ],
      "metadata": {
        "colab": {
          "base_uri": "https://localhost:8080/"
        },
        "id": "RcbYKoZ6Oevf",
        "outputId": "c4d7d3cb-3282-49ec-f05b-27b0f949b701"
      },
      "execution_count": 37,
      "outputs": [
        {
          "output_type": "stream",
          "name": "stdout",
          "text": [
            "{'values': [1, 2, 3, 4, 5], 'name': 'Bob', 'operation': 'diff', 'result': 'Hi there Bob, Your List Sum is -13'}\n"
          ]
        }
      ]
    },
    {
      "cell_type": "markdown",
      "source": [
        "Sequential Graph"
      ],
      "metadata": {
        "id": "rVLfcm42PpOQ"
      }
    },
    {
      "cell_type": "code",
      "source": [
        "class AgentStatee(TypedDict):\n",
        "    name: str\n",
        "    age: int\n",
        "    final: str\n",
        "\n",
        "def first_node(state: AgentStatee) -> AgentStatee:\n",
        "  state[\"final\"] = f\"Hi there {state['name']},\"\n",
        "  return state\n",
        "def second_node(state:AgentStatee)->AgentStatee:\n",
        "  state[\"final\"] += f\"You are {state['age']} years old\"\n",
        "  return state\n",
        "\n",
        "graph = StateGraph(AgentStatee)\n",
        "graph.add_node(\"first_node\", first_node)\n",
        "graph.add_node(\"second_node\", second_node)\n",
        "graph.set_entry_point(\"first_node\")\n",
        "graph.add_edge(\"first_node\",\"second_node\")\n",
        "graph.set_finish_point(\"second_node\")\n",
        "\n",
        "app = graph.compile()\n",
        "answer = app.invoke({\"name\":\"bob\",\"age\":30})\n",
        "print(answer)"
      ],
      "metadata": {
        "colab": {
          "base_uri": "https://localhost:8080/"
        },
        "id": "I499D0BePoXv",
        "outputId": "893efff0-4c6d-450a-bbea-d08c8619acf6"
      },
      "execution_count": 40,
      "outputs": [
        {
          "output_type": "stream",
          "name": "stdout",
          "text": [
            "{'name': 'bob', 'age': '30', 'final': 'Hi there bob,You are 30 years old'}\n"
          ]
        }
      ]
    }
  ]
}